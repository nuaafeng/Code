{
 "cells": [
  {
   "cell_type": "markdown",
   "metadata": {},
   "source": [
    "# How to Git\n",
    "- github vscode\n",
    "- github账户\n",
    "- git下载\n",
    "- git init\n",
    "- git remote -v确认时需要备注名字 再同步可以选择不同的路径\n",
    "- git checkout 名字\n",
    "- git branch 查看分支"
   ]
  },
  {
   "cell_type": "markdown",
   "metadata": {},
   "source": [
    "# Tmux \n",
    "1. tmux new -s <session-name>              新建会话\n",
    "2. tmux detach                            分离会话\n",
    "3. tmux ls                                查看当前所有的Tmux会话\n",
    "4. tmux a -t 0        链接到某个会话       使用会话编号\n",
    "5. tmux a -t <session-name>               使用会话名称\n",
    "6. tmux kill-session -t 0                 使用编号\n",
    "7. tmux kill-session -t <session-name>     使用会话名称\n",
    "8. tmux switch -t 0                       如果在一个会话中，可以使用switch切换会话\n",
    "9. tmux switch -t <session-name>          使用会话名称\n",
    "10. tmux rename-session -t 0 <new-name>     重命名会话"
   ]
  },
  {
   "cell_type": "markdown",
   "metadata": {},
   "source": [
    "# Tensorboard\n",
    "- tensorboard --logdir ./xxxx --port=6007"
   ]
  },
  {
   "cell_type": "markdown",
   "metadata": {},
   "source": [
    "# tqdm使用示例\n",
    "```python\n",
    "from tqdm import tqdm\n",
    "import time\n",
    "创建一个示例的迭代器，假设是一个列表\n",
    "items = list(range(100))\n",
    "在 for 循环中使用 tqdm 包装迭代器\n",
    "for i in range(10):\n",
    "    pbar = tqdm(items,desc='processing items', colour='blue')\n",
    "    for item in pbar:\n",
    "        # 模拟处理过程，这里可以是任意耗时的任务\n",
    "        time.sleep(0.1)\n",
    "        pbar.set_description(f'epoch[{item}]')\n",
    "        pbar.set_postfix({'epoch':item})\n",
    "```"
   ]
  }
 ],
 "metadata": {
  "kernelspec": {
   "display_name": "ML",
   "language": "python",
   "name": "python3"
  },
  "language_info": {
   "name": "python",
   "version": "3.11.5"
  }
 },
 "nbformat": 4,
 "nbformat_minor": 2
}
