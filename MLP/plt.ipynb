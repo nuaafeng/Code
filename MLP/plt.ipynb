{
 "cells": [
  {
   "cell_type": "code",
   "execution_count": 1,
   "metadata": {},
   "outputs": [],
   "source": [
    "from sklearn.decomposition import PCA\n",
    "import matplotlib.pyplot as plt\n",
    "import pandas as pd\n",
    "import numpy as np "
   ]
  },
  {
   "cell_type": "code",
   "execution_count": 5,
   "metadata": {},
   "outputs": [
    {
     "name": "stdout",
     "output_type": "stream",
     "text": [
      "0.19086249928647867\n"
     ]
    }
   ],
   "source": [
    "datatest = np.array(pd.read_excel('datatest.xlsx').values)\n",
    "pre = np.array(pd.read_csv('pred_MLP.csv').values)[:,1]\n",
    "datatest = datatest[:,-3]\n",
    "datatest = (datatest-datatest.mean())/datatest.std()\n",
    "from sklearn.metrics import mean_squared_error\n",
    "loss = mean_squared_error(pre[2000:10000,],datatest[2000:10000,],squared=False)\n",
    "print(loss)"
   ]
  },
  {
   "cell_type": "code",
   "execution_count": 6,
   "metadata": {},
   "outputs": [
    {
     "data": {
      "text/plain": [
       "[<matplotlib.lines.Line2D at 0x7fad5909b890>]"
      ]
     },
     "execution_count": 6,
     "metadata": {},
     "output_type": "execute_result"
    },
    {
     "data": {
      "image/png": "[encoded data removed]",
      "text/plain": [
       "<Figure size 640x480 with 1 Axes>"
      ]
     },
     "metadata": {},
     "output_type": "display_data"
    }
   ],
   "source": [
    "figure = plt.figure(0)\n",
    "x= list(range(1,len(pre)+1))\n",
    "plt.plot(x,pre,c='blue')\n",
    "plt.plot(x,datatest,c='red')"
   ]
  },
  {
   "cell_type": "markdown",
   "metadata": {},
   "source": [
    "训练的参数在in_proj_weight and out_proj_weight"
   ]
  },
  {
   "cell_type": "code",
   "execution_count": 1,
   "metadata": {},
   "outputs": [
    {
     "name": "stdout",
     "output_type": "stream",
     "text": [
      "tensor([0., 0., 0.,  ..., 0., 0., 0.], grad_fn=<SqueezeBackward1>) torch.Size([1999])\n"
     ]
    }
   ],
   "source": [
    "import torch\n",
    "import torch.nn as nn\n",
    "import torch.functional as F\n",
    "import math\n",
    "import pandas as pd\n",
    "import os\n",
    "import  torch.optim as optim\n",
    "from torch.utils.tensorboard import SummaryWriter\n",
    "from sklearn.preprocessing import StandardScaler\n",
    "d_model = 32#QKV空间维度\n",
    "n_head = 8#头个数   \n",
    "\n",
    "#配置文档\n",
    "device = 'cuda' if torch.cuda.is_available() else 'cpu'\n",
    "config = {\n",
    "    'seed': 2332030,      # Your seed number, you can pick your lucky number. :)\n",
    "    'select_all': False,   # Whether to use all features.\n",
    "    'valid_ratio': 0.2,   # validation_size = train_size * valid_ratio\n",
    "    'n_epochs': 20000,     # Number of epochs.            \n",
    "    'batch_size': 256, \n",
    "    'learning_rate': 1e-3,              \n",
    "    'early_stop': 600,    # If model has not improved for this many consecutive epochs, stop training.     \n",
    "    'save_path': './models/model.ckpt'  # Your model will be saved here.\n",
    "}\n",
    "\n",
    "input_dim = 10\n",
    "#网络结构\n",
    "\n",
    "class My_Model(nn.Module):\n",
    "    def __init__(self, input_dim):\n",
    "        super(My_Model,self).__init__()\n",
    "        self.relu = nn.ReLU()\n",
    "        self.w_q = nn.Linear(input_dim,input_dim)\n",
    "        self.w_k = nn.Linear(input_dim,input_dim)\n",
    "        self.w_v = nn.Linear(input_dim,input_dim)\n",
    "        self.w_combine = nn.Linear(input_dim,input_dim)\n",
    "        self.softmax = nn.Softmax(dim=-1)\n",
    "        self.linear = nn.Linear(10,1)\n",
    "    def forward(self,x):\n",
    "        q = self.w_q(x)\n",
    "        k = self.w_k(x)\n",
    "        v = self.w_v(x)\n",
    "        score = q @ k.transpose(0,1)\n",
    "        score = self.softmax(score) @ v\n",
    "        attention = self.w_combine(score)\n",
    "        x = self.relu(self.linear(attention))\n",
    "        x = x.squeeze(1)\n",
    "        return x\n",
    "\n",
    "\n",
    "a=torch.rand(1999,10)\n",
    "b=a\n",
    "#b= b.view(4,250,32) #reshape\n",
    "net = My_Model(input_dim)\n",
    "output = net(b)\n",
    "print(output, output.shape)"
   ]
  },
  {
   "cell_type": "code",
   "execution_count": 5,
   "metadata": {},
   "outputs": [
    {
     "name": "stdout",
     "output_type": "stream",
     "text": [
      "[[0 '[1.9380494  0.06423296]']\n",
      " [1 '[1.9376196  0.07824847]']\n",
      " [2 '[1.9371902 0.0922507]']\n",
      " ...\n",
      " [896 '[-0.43397227  0.29350305]']\n",
      " [897 '[-0.43675998  0.2830556 ]']\n",
      " [898 '[-0.4391747  0.2724006]']]\n"
     ]
    }
   ],
   "source": [
    "import pandas as pd \n",
    "import numpy as np\n",
    "a = pd.read_csv('pred_螺旋轨迹.csv')\n",
    "b = np.array(a.values)\n",
    "print(b)"
   ]
  },
  {
   "cell_type": "code",
   "execution_count": null,
   "metadata": {},
   "outputs": [],
   "source": []
  }
 ],
 "metadata": {
  "kernelspec": {
   "display_name": "Python 3",
   "language": "python",
   "name": "python3"
  },
  "language_info": {
   "codemirror_mode": {
    "name": "ipython",
    "version": 3
   },
   "file_extension": ".py",
   "mimetype": "text/x-python",
   "name": "python",
   "nbconvert_exporter": "python",
   "pygments_lexer": "ipython3",
   "version": "3.11.5"
  }
 },
 "nbformat": 4,
 "nbformat_minor": 2
}
